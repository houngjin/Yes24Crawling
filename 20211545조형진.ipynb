{
 "cells": [
  {
   "cell_type": "code",
   "execution_count": 8,
   "id": "e21ed6c2-7e95-4559-a839-61161aa3a74a",
   "metadata": {},
   "outputs": [],
   "source": [
    "import requests\n",
    "import pandas as pd\n",
    "from bs4 import BeautifulSoup\n",
    "\n",
    "books = []\n",
    "page = 1\n",
    "\n",
    "while True:\n",
    "    url = f\"https://www.yes24.com/product/category/bestseller?categoryNumber=001&pageNumber={page}&pageSize=24\"\n",
    "    res = requests.get(url)\n",
    "    soup = BeautifulSoup(res.text, \"html.parser\")\n",
    "    items = soup.find_all(\"li\", attrs={\"data-goods-no\": True})\n",
    "    \n",
    "    if not items:\n",
    "        break\n",
    "\n",
    "    for item in items:\n",
    "        rank_tag = item.select_one(\"em.ico.rank\")\n",
    "        title_tag = item.select_one(\"a.gd_name\")\n",
    "        author_tag = item.select_one(\"span.authPub.info_auth a\")\n",
    "        pub_tag = item.select_one(\"span.authPub.info_pub a\")\n",
    "\n",
    "        rank = rank_tag.text.strip() if rank_tag else \"\"\n",
    "        title = title_tag.text.strip() if title_tag else \"\"\n",
    "        author = author_tag.text.strip() if author_tag else \"\"\n",
    "        pub = pub_tag.text.strip() if pub_tag else \"\"\n",
    "\n",
    "        books.append([rank, title, author, pub])\n",
    "\n",
    "    page += 1\n",
    "\n",
    "df = pd.DataFrame(books, columns=[\"순위\", \"책제목\", \"저자\", \"출판사\"])\n",
    "df.to_csv(\"yes24_bestseller_final.csv\", index=False, encoding=\"utf-8-sig\")\n"
   ]
  },
  {
   "cell_type": "code",
   "execution_count": null,
   "id": "b484c59c-411d-45e2-a2ee-dee9e4fde9f9",
   "metadata": {},
   "outputs": [],
   "source": []
  }
 ],
 "metadata": {
  "kernelspec": {
   "display_name": "Python 3 (ipykernel)",
   "language": "python",
   "name": "python3"
  },
  "language_info": {
   "codemirror_mode": {
    "name": "ipython",
    "version": 3
   },
   "file_extension": ".py",
   "mimetype": "text/x-python",
   "name": "python",
   "nbconvert_exporter": "python",
   "pygments_lexer": "ipython3",
   "version": "3.10.18"
  }
 },
 "nbformat": 4,
 "nbformat_minor": 5
}
